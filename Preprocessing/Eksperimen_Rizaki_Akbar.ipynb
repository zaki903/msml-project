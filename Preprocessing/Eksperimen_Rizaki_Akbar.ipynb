{
  "cells": [
    {
      "cell_type": "markdown",
      "metadata": {
        "id": "kZLRMFl0JyyQ"
      },
      "source": [
        "# **1. Perkenalan Dataset**\n"
      ]
    },
    {
      "cell_type": "markdown",
      "metadata": {
        "id": "hssSDn-5n3HR"
      },
      "source": [
        "Tahap pertama, Anda harus mencari dan menggunakan dataset dengan ketentuan sebagai berikut:\n",
        "\n",
        "1. **Sumber Dataset**:  \n",
        "   Dataset dapat diperoleh dari berbagai sumber, seperti public repositories (*Kaggle*, *UCI ML Repository*, *Open Data*) atau data primer yang Anda kumpulkan sendiri.\n",
        "   https://www.kaggle.com/datasets/ankushpanday2/indian-kids-screentime-2025/data\n",
        "\n"
      ]
    },
    {
      "cell_type": "markdown",
      "metadata": {
        "id": "fKADPWcFKlj3"
      },
      "source": [
        "# **2. Import Library**"
      ]
    },
    {
      "cell_type": "markdown",
      "metadata": {
        "id": "LgA3ERnVn84N"
      },
      "source": [
        "Pada tahap ini, Anda perlu mengimpor beberapa pustaka (library) Python yang dibutuhkan untuk analisis data dan pembangunan model machine learning atau deep learning."
      ]
    },
    {
      "cell_type": "code",
      "execution_count": 28,
      "metadata": {
        "id": "BlmvjLY9M4Yj"
      },
      "outputs": [],
      "source": [
        "#Type your code here\n",
        "import pandas as pd\n",
        "import numpy as np \n",
        "import matplotlib.pyplot as plt\n",
        "import seaborn as sns\n",
        "\n",
        "from sklearn.preprocessing import LabelEncoder\n"
      ]
    },
    {
      "cell_type": "markdown",
      "metadata": {
        "id": "f3YIEnAFKrKL"
      },
      "source": [
        "# **3. Memuat Dataset**"
      ]
    },
    {
      "cell_type": "markdown",
      "metadata": {
        "id": "Ey3ItwTen_7E"
      },
      "source": [
        "Pada tahap ini, Anda perlu memuat dataset ke dalam notebook. Jika dataset dalam format CSV, Anda bisa menggunakan pustaka pandas untuk membacanya. Pastikan untuk mengecek beberapa baris awal dataset untuk memahami strukturnya dan memastikan data telah dimuat dengan benar.\n",
        "\n",
        "Jika dataset berada di Google Drive, pastikan Anda menghubungkan Google Drive ke Colab terlebih dahulu. Setelah dataset berhasil dimuat, langkah berikutnya adalah memeriksa kesesuaian data dan siap untuk dianalisis lebih lanjut.\n",
        "\n",
        "Jika dataset berupa unstructured data, silakan sesuaikan dengan format seperti kelas Machine Learning Pengembangan atau Machine Learning Terapan"
      ]
    },
    {
      "cell_type": "code",
      "execution_count": 29,
      "metadata": {
        "id": "GHCGNTyrM5fS"
      },
      "outputs": [
        {
          "data": {
            "application/vnd.microsoft.datawrangler.viewer.v0+json": {
              "columns": [
                {
                  "name": "index",
                  "rawType": "int64",
                  "type": "integer"
                },
                {
                  "name": "Age",
                  "rawType": "int64",
                  "type": "integer"
                },
                {
                  "name": "Gender",
                  "rawType": "object",
                  "type": "string"
                },
                {
                  "name": "Avg_Daily_Screen_Time_hr",
                  "rawType": "float64",
                  "type": "float"
                },
                {
                  "name": "Primary_Device",
                  "rawType": "object",
                  "type": "string"
                },
                {
                  "name": "Exceeded_Recommended_Limit",
                  "rawType": "bool",
                  "type": "boolean"
                },
                {
                  "name": "Educational_to_Recreational_Ratio",
                  "rawType": "float64",
                  "type": "float"
                },
                {
                  "name": "Health_Impacts",
                  "rawType": "object",
                  "type": "unknown"
                },
                {
                  "name": "Urban_or_Rural",
                  "rawType": "object",
                  "type": "string"
                }
              ],
              "ref": "977b6359-376a-4d0f-9200-fae445e3e296",
              "rows": [
                [
                  "0",
                  "14",
                  "Male",
                  "3.99",
                  "Smartphone",
                  "True",
                  "0.42",
                  "Poor Sleep, Eye Strain",
                  "Urban"
                ],
                [
                  "1",
                  "11",
                  "Female",
                  "4.61",
                  "Laptop",
                  "True",
                  "0.3",
                  "Poor Sleep",
                  "Urban"
                ],
                [
                  "2",
                  "18",
                  "Female",
                  "3.73",
                  "TV",
                  "True",
                  "0.32",
                  "Poor Sleep",
                  "Urban"
                ],
                [
                  "3",
                  "15",
                  "Female",
                  "1.21",
                  "Laptop",
                  "False",
                  "0.39",
                  null,
                  "Urban"
                ],
                [
                  "4",
                  "12",
                  "Female",
                  "5.89",
                  "Smartphone",
                  "True",
                  "0.49",
                  "Poor Sleep, Anxiety",
                  "Urban"
                ]
              ],
              "shape": {
                "columns": 8,
                "rows": 5
              }
            },
            "text/html": [
              "<div>\n",
              "<style scoped>\n",
              "    .dataframe tbody tr th:only-of-type {\n",
              "        vertical-align: middle;\n",
              "    }\n",
              "\n",
              "    .dataframe tbody tr th {\n",
              "        vertical-align: top;\n",
              "    }\n",
              "\n",
              "    .dataframe thead th {\n",
              "        text-align: right;\n",
              "    }\n",
              "</style>\n",
              "<table border=\"1\" class=\"dataframe\">\n",
              "  <thead>\n",
              "    <tr style=\"text-align: right;\">\n",
              "      <th></th>\n",
              "      <th>Age</th>\n",
              "      <th>Gender</th>\n",
              "      <th>Avg_Daily_Screen_Time_hr</th>\n",
              "      <th>Primary_Device</th>\n",
              "      <th>Exceeded_Recommended_Limit</th>\n",
              "      <th>Educational_to_Recreational_Ratio</th>\n",
              "      <th>Health_Impacts</th>\n",
              "      <th>Urban_or_Rural</th>\n",
              "    </tr>\n",
              "  </thead>\n",
              "  <tbody>\n",
              "    <tr>\n",
              "      <th>0</th>\n",
              "      <td>14</td>\n",
              "      <td>Male</td>\n",
              "      <td>3.99</td>\n",
              "      <td>Smartphone</td>\n",
              "      <td>True</td>\n",
              "      <td>0.42</td>\n",
              "      <td>Poor Sleep, Eye Strain</td>\n",
              "      <td>Urban</td>\n",
              "    </tr>\n",
              "    <tr>\n",
              "      <th>1</th>\n",
              "      <td>11</td>\n",
              "      <td>Female</td>\n",
              "      <td>4.61</td>\n",
              "      <td>Laptop</td>\n",
              "      <td>True</td>\n",
              "      <td>0.30</td>\n",
              "      <td>Poor Sleep</td>\n",
              "      <td>Urban</td>\n",
              "    </tr>\n",
              "    <tr>\n",
              "      <th>2</th>\n",
              "      <td>18</td>\n",
              "      <td>Female</td>\n",
              "      <td>3.73</td>\n",
              "      <td>TV</td>\n",
              "      <td>True</td>\n",
              "      <td>0.32</td>\n",
              "      <td>Poor Sleep</td>\n",
              "      <td>Urban</td>\n",
              "    </tr>\n",
              "    <tr>\n",
              "      <th>3</th>\n",
              "      <td>15</td>\n",
              "      <td>Female</td>\n",
              "      <td>1.21</td>\n",
              "      <td>Laptop</td>\n",
              "      <td>False</td>\n",
              "      <td>0.39</td>\n",
              "      <td>NaN</td>\n",
              "      <td>Urban</td>\n",
              "    </tr>\n",
              "    <tr>\n",
              "      <th>4</th>\n",
              "      <td>12</td>\n",
              "      <td>Female</td>\n",
              "      <td>5.89</td>\n",
              "      <td>Smartphone</td>\n",
              "      <td>True</td>\n",
              "      <td>0.49</td>\n",
              "      <td>Poor Sleep, Anxiety</td>\n",
              "      <td>Urban</td>\n",
              "    </tr>\n",
              "  </tbody>\n",
              "</table>\n",
              "</div>"
            ],
            "text/plain": [
              "   Age  Gender  Avg_Daily_Screen_Time_hr Primary_Device  \\\n",
              "0   14    Male                      3.99     Smartphone   \n",
              "1   11  Female                      4.61         Laptop   \n",
              "2   18  Female                      3.73             TV   \n",
              "3   15  Female                      1.21         Laptop   \n",
              "4   12  Female                      5.89     Smartphone   \n",
              "\n",
              "   Exceeded_Recommended_Limit  Educational_to_Recreational_Ratio  \\\n",
              "0                        True                               0.42   \n",
              "1                        True                               0.30   \n",
              "2                        True                               0.32   \n",
              "3                       False                               0.39   \n",
              "4                        True                               0.49   \n",
              "\n",
              "           Health_Impacts Urban_or_Rural  \n",
              "0  Poor Sleep, Eye Strain          Urban  \n",
              "1              Poor Sleep          Urban  \n",
              "2              Poor Sleep          Urban  \n",
              "3                     NaN          Urban  \n",
              "4     Poor Sleep, Anxiety          Urban  "
            ]
          },
          "execution_count": 29,
          "metadata": {},
          "output_type": "execute_result"
        }
      ],
      "source": [
        "# Meload dataset\n",
        "data = pd.read_csv(\"../Indian_Kids_Screen_Time.csv\")\n",
        "\n",
        "# Melihat 5 data awal\n",
        "data.head()"
      ]
    },
    {
      "cell_type": "markdown",
      "metadata": {
        "id": "bgZkbJLpK9UR"
      },
      "source": [
        "# **4. Exploratory Data Analysis (EDA)**\n",
        "\n",
        "Pada tahap ini, Anda akan melakukan **Exploratory Data Analysis (EDA)** untuk memahami karakteristik dataset.\n",
        "\n",
        "Tujuan dari EDA adalah untuk memperoleh wawasan awal yang mendalam mengenai data dan menentukan langkah selanjutnya dalam analisis atau pemodelan."
      ]
    },
    {
      "cell_type": "code",
      "execution_count": 30,
      "metadata": {
        "id": "dKeejtvxM6X1"
      },
      "outputs": [
        {
          "name": "stdout",
          "output_type": "stream",
          "text": [
            "<class 'pandas.core.frame.DataFrame'>\n",
            "RangeIndex: 9712 entries, 0 to 9711\n",
            "Data columns (total 8 columns):\n",
            " #   Column                             Non-Null Count  Dtype  \n",
            "---  ------                             --------------  -----  \n",
            " 0   Age                                9712 non-null   int64  \n",
            " 1   Gender                             9712 non-null   object \n",
            " 2   Avg_Daily_Screen_Time_hr           9712 non-null   float64\n",
            " 3   Primary_Device                     9712 non-null   object \n",
            " 4   Exceeded_Recommended_Limit         9712 non-null   bool   \n",
            " 5   Educational_to_Recreational_Ratio  9712 non-null   float64\n",
            " 6   Health_Impacts                     6494 non-null   object \n",
            " 7   Urban_or_Rural                     9712 non-null   object \n",
            "dtypes: bool(1), float64(2), int64(1), object(4)\n",
            "memory usage: 540.7+ KB\n"
          ]
        }
      ],
      "source": [
        "# Mengecek tipe data yang ada di dataset\n",
        "data.info()"
      ]
    },
    {
      "cell_type": "markdown",
      "metadata": {},
      "source": [
        "Jika diliat semua jumlah data konsisten berjumla 9712 row, kecuali column \"Health_impact\" yang berjumlah  6494 row. Dari sini mungkin ada data value yang missing."
      ]
    },
    {
      "cell_type": "code",
      "execution_count": 31,
      "metadata": {},
      "outputs": [
        {
          "data": {
            "application/vnd.microsoft.datawrangler.viewer.v0+json": {
              "columns": [
                {
                  "name": "index",
                  "rawType": "object",
                  "type": "string"
                },
                {
                  "name": "0",
                  "rawType": "int64",
                  "type": "integer"
                }
              ],
              "ref": "79786f90-742c-4387-bb5f-a2bbbe927509",
              "rows": [
                [
                  "Age",
                  "11"
                ],
                [
                  "Gender",
                  "2"
                ],
                [
                  "Avg_Daily_Screen_Time_hr",
                  "899"
                ],
                [
                  "Primary_Device",
                  "4"
                ],
                [
                  "Exceeded_Recommended_Limit",
                  "2"
                ],
                [
                  "Educational_to_Recreational_Ratio",
                  "31"
                ],
                [
                  "Health_Impacts",
                  "15"
                ],
                [
                  "Urban_or_Rural",
                  "2"
                ]
              ],
              "shape": {
                "columns": 1,
                "rows": 8
              }
            },
            "text/plain": [
              "Age                                   11\n",
              "Gender                                 2\n",
              "Avg_Daily_Screen_Time_hr             899\n",
              "Primary_Device                         4\n",
              "Exceeded_Recommended_Limit             2\n",
              "Educational_to_Recreational_Ratio     31\n",
              "Health_Impacts                        15\n",
              "Urban_or_Rural                         2\n",
              "dtype: int64"
            ]
          },
          "execution_count": 31,
          "metadata": {},
          "output_type": "execute_result"
        }
      ],
      "source": [
        "# melihat data yang unik \n",
        "data.nunique()\n"
      ]
    },
    {
      "cell_type": "code",
      "execution_count": 32,
      "metadata": {},
      "outputs": [
        {
          "data": {
            "application/vnd.microsoft.datawrangler.viewer.v0+json": {
              "columns": [
                {
                  "name": "index",
                  "rawType": "object",
                  "type": "string"
                },
                {
                  "name": "0",
                  "rawType": "int64",
                  "type": "integer"
                }
              ],
              "ref": "16438994-24db-4359-9a91-767aa9e5db60",
              "rows": [
                [
                  "Age",
                  "0"
                ],
                [
                  "Gender",
                  "0"
                ],
                [
                  "Avg_Daily_Screen_Time_hr",
                  "0"
                ],
                [
                  "Primary_Device",
                  "0"
                ],
                [
                  "Exceeded_Recommended_Limit",
                  "0"
                ],
                [
                  "Educational_to_Recreational_Ratio",
                  "0"
                ],
                [
                  "Health_Impacts",
                  "3218"
                ],
                [
                  "Urban_or_Rural",
                  "0"
                ]
              ],
              "shape": {
                "columns": 1,
                "rows": 8
              }
            },
            "text/plain": [
              "Age                                     0\n",
              "Gender                                  0\n",
              "Avg_Daily_Screen_Time_hr                0\n",
              "Primary_Device                          0\n",
              "Exceeded_Recommended_Limit              0\n",
              "Educational_to_Recreational_Ratio       0\n",
              "Health_Impacts                       3218\n",
              "Urban_or_Rural                          0\n",
              "dtype: int64"
            ]
          },
          "execution_count": 32,
          "metadata": {},
          "output_type": "execute_result"
        }
      ],
      "source": [
        "# Melihat data yang terindikasi missing value\n",
        "data.isnull().sum()"
      ]
    },
    {
      "cell_type": "markdown",
      "metadata": {},
      "source": [
        "dapat diliat ada data yang hilang atau missing value di column \"Health_impact\" yang berjumlah 3218."
      ]
    },
    {
      "cell_type": "code",
      "execution_count": 33,
      "metadata": {},
      "outputs": [
        {
          "name": "stdout",
          "output_type": "stream",
          "text": [
            "Data yang terindakasi duplikat: 44\n"
          ]
        },
        {
          "data": {
            "application/vnd.microsoft.datawrangler.viewer.v0+json": {
              "columns": [
                {
                  "name": "index",
                  "rawType": "object",
                  "type": "string"
                },
                {
                  "name": "Age",
                  "rawType": "float64",
                  "type": "float"
                },
                {
                  "name": "Avg_Daily_Screen_Time_hr",
                  "rawType": "float64",
                  "type": "float"
                },
                {
                  "name": "Educational_to_Recreational_Ratio",
                  "rawType": "float64",
                  "type": "float"
                }
              ],
              "ref": "136fe2c6-1bf1-4404-a327-f28c16ab74d5",
              "rows": [
                [
                  "count",
                  "9712.0",
                  "9712.0",
                  "9712.0"
                ],
                [
                  "mean",
                  "12.979200988467875",
                  "4.3528366968698515",
                  "0.4272261120263592"
                ],
                [
                  "std",
                  "3.162437196319379",
                  "1.718232459051636",
                  "0.07322124121854738"
                ],
                [
                  "min",
                  "8.0",
                  "0.0",
                  "0.3"
                ],
                [
                  "25%",
                  "10.0",
                  "3.41",
                  "0.37"
                ],
                [
                  "50%",
                  "13.0",
                  "4.44",
                  "0.43"
                ],
                [
                  "75%",
                  "16.0",
                  "5.38",
                  "0.48"
                ],
                [
                  "max",
                  "18.0",
                  "13.89",
                  "0.6"
                ]
              ],
              "shape": {
                "columns": 3,
                "rows": 8
              }
            },
            "text/html": [
              "<div>\n",
              "<style scoped>\n",
              "    .dataframe tbody tr th:only-of-type {\n",
              "        vertical-align: middle;\n",
              "    }\n",
              "\n",
              "    .dataframe tbody tr th {\n",
              "        vertical-align: top;\n",
              "    }\n",
              "\n",
              "    .dataframe thead th {\n",
              "        text-align: right;\n",
              "    }\n",
              "</style>\n",
              "<table border=\"1\" class=\"dataframe\">\n",
              "  <thead>\n",
              "    <tr style=\"text-align: right;\">\n",
              "      <th></th>\n",
              "      <th>Age</th>\n",
              "      <th>Avg_Daily_Screen_Time_hr</th>\n",
              "      <th>Educational_to_Recreational_Ratio</th>\n",
              "    </tr>\n",
              "  </thead>\n",
              "  <tbody>\n",
              "    <tr>\n",
              "      <th>count</th>\n",
              "      <td>9712.000000</td>\n",
              "      <td>9712.000000</td>\n",
              "      <td>9712.000000</td>\n",
              "    </tr>\n",
              "    <tr>\n",
              "      <th>mean</th>\n",
              "      <td>12.979201</td>\n",
              "      <td>4.352837</td>\n",
              "      <td>0.427226</td>\n",
              "    </tr>\n",
              "    <tr>\n",
              "      <th>std</th>\n",
              "      <td>3.162437</td>\n",
              "      <td>1.718232</td>\n",
              "      <td>0.073221</td>\n",
              "    </tr>\n",
              "    <tr>\n",
              "      <th>min</th>\n",
              "      <td>8.000000</td>\n",
              "      <td>0.000000</td>\n",
              "      <td>0.300000</td>\n",
              "    </tr>\n",
              "    <tr>\n",
              "      <th>25%</th>\n",
              "      <td>10.000000</td>\n",
              "      <td>3.410000</td>\n",
              "      <td>0.370000</td>\n",
              "    </tr>\n",
              "    <tr>\n",
              "      <th>50%</th>\n",
              "      <td>13.000000</td>\n",
              "      <td>4.440000</td>\n",
              "      <td>0.430000</td>\n",
              "    </tr>\n",
              "    <tr>\n",
              "      <th>75%</th>\n",
              "      <td>16.000000</td>\n",
              "      <td>5.380000</td>\n",
              "      <td>0.480000</td>\n",
              "    </tr>\n",
              "    <tr>\n",
              "      <th>max</th>\n",
              "      <td>18.000000</td>\n",
              "      <td>13.890000</td>\n",
              "      <td>0.600000</td>\n",
              "    </tr>\n",
              "  </tbody>\n",
              "</table>\n",
              "</div>"
            ],
            "text/plain": [
              "               Age  Avg_Daily_Screen_Time_hr  \\\n",
              "count  9712.000000               9712.000000   \n",
              "mean     12.979201                  4.352837   \n",
              "std       3.162437                  1.718232   \n",
              "min       8.000000                  0.000000   \n",
              "25%      10.000000                  3.410000   \n",
              "50%      13.000000                  4.440000   \n",
              "75%      16.000000                  5.380000   \n",
              "max      18.000000                 13.890000   \n",
              "\n",
              "       Educational_to_Recreational_Ratio  \n",
              "count                        9712.000000  \n",
              "mean                            0.427226  \n",
              "std                             0.073221  \n",
              "min                             0.300000  \n",
              "25%                             0.370000  \n",
              "50%                             0.430000  \n",
              "75%                             0.480000  \n",
              "max                             0.600000  "
            ]
          },
          "execution_count": 33,
          "metadata": {},
          "output_type": "execute_result"
        }
      ],
      "source": [
        "# Melihat data yang terindakasi duplikat\n",
        "print(\"Data yang terindakasi duplikat:\", data.duplicated().sum())\n",
        "\n",
        "# Melihat deskripsi data Number\n",
        "data.describe()"
      ]
    },
    {
      "cell_type": "markdown",
      "metadata": {},
      "source": [
        "data yang terindikasi duplikat berjumlah 44 data."
      ]
    },
    {
      "cell_type": "code",
      "execution_count": 34,
      "metadata": {},
      "outputs": [
        {
          "name": "stderr",
          "output_type": "stream",
          "text": [
            "C:\\Users\\asus\\AppData\\Local\\Temp\\ipykernel_15892\\1302518475.py:2: FutureWarning: \n",
            "\n",
            "Passing `palette` without assigning `hue` is deprecated and will be removed in v0.14.0. Assign the `x` variable to `hue` and set `legend=False` for the same effect.\n",
            "\n",
            "  ax = sns.countplot(data=data, x=\"Gender\", palette={\"Male\": \"blue\", \"Female\": \"red\"})\n"
          ]
        },
        {
          "data": {
            "image/png": "[encoded data removed]",
            "text/plain": [
              "<Figure size 640x480 with 1 Axes>"
            ]
          },
          "metadata": {},
          "output_type": "display_data"
        }
      ],
      "source": [
        "# melihat perbandingan pada data Gender\n",
        "ax = sns.countplot(data=data, x=\"Gender\", palette={\"Male\": \"blue\", \"Female\": \"red\"})\n",
        "\n",
        "for container in ax.containers:\n",
        "    ax.bar_label(container)\n",
        "\n",
        "plt.title(\"jumlah data berdasarkan jenis kelamin\")\n",
        "plt.xlabel(\"Jenis Kelamin\")\n",
        "plt.ylabel(\"jumlah\")\n",
        "plt.show()"
      ]
    },
    {
      "cell_type": "code",
      "execution_count": 35,
      "metadata": {},
      "outputs": [
        {
          "data": {
            "image/png": "[encoded data removed]",
            "text/plain": [
              "<Figure size 640x480 with 1 Axes>"
            ]
          },
          "metadata": {},
          "output_type": "display_data"
        }
      ],
      "source": [
        "# melihat rata-rata rata penggunaan screen time berdasarakan usia\n",
        "sns.barplot(data=data, x=\"Age\", y=\"Avg_Daily_Screen_Time_hr\", estimator=\"mean\")\n",
        "plt.title(\"Rata-rata Screen Time per Usia\")\n",
        "plt.ylabel(\"Rata-Rata\")\n",
        "plt.xlabel(\"usia\")\n",
        "plt.show()"
      ]
    },
    {
      "cell_type": "markdown",
      "metadata": {},
      "source": [
        "insight yang kita dapat adalah dari umur 8-10 tahun rata rata penggunaan screen time berkisar 4 jam, dan dari umur 11-18 tahun rata rata penggunaan screen time berkisar lebih dari 4. Jadi, ada kemungkinan dari umur 11 tahun keatas penjagaan screen time tidak lagi terlalu ketat."
      ]
    },
    {
      "cell_type": "markdown",
      "metadata": {
        "id": "cpgHfgnSK3ip"
      },
      "source": [
        "# **5. Data Preprocessing**"
      ]
    },
    {
      "cell_type": "markdown",
      "metadata": {
        "id": "COf8KUPXLg5r"
      },
      "source": [
        "Pada tahap ini, data preprocessing adalah langkah penting untuk memastikan kualitas data sebelum digunakan dalam model machine learning.\n",
        "\n",
        "Jika Anda menggunakan data teks, data mentah sering kali mengandung nilai kosong, duplikasi, atau rentang nilai yang tidak konsisten, yang dapat memengaruhi kinerja model. Oleh karena itu, proses ini bertujuan untuk membersihkan dan mempersiapkan data agar analisis berjalan optimal.\n",
        "\n",
        "Berikut adalah tahapan-tahapan yang bisa dilakukan, tetapi **tidak terbatas** pada:\n",
        "1. Menghapus atau Menangani Data Kosong (Missing Values)\n",
        "2. Menghapus Data Duplikat\n",
        "3. Normalisasi atau Standarisasi Fitur\n",
        "4. Deteksi dan Penanganan Outlier\n",
        "5. Encoding Data Kategorikal\n",
        "6. Binning (Pengelompokan Data)\n",
        "\n",
        "Cukup sesuaikan dengan karakteristik data yang kamu gunakan yah. Khususnya ketika kami menggunakan data tidak terstruktur."
      ]
    },
    {
      "cell_type": "code",
      "execution_count": 36,
      "metadata": {
        "id": "Og8pGV0-iDLz"
      },
      "outputs": [
        {
          "name": "stdout",
          "output_type": "stream",
          "text": [
            "jumalah data duplikat :  0\n",
            "Jumlah data hilang    :\n",
            "Age                                  0\n",
            "Gender                               0\n",
            "Avg_Daily_Screen_Time_hr             0\n",
            "Primary_Device                       0\n",
            "Exceeded_Recommended_Limit           0\n",
            "Educational_to_Recreational_Ratio    0\n",
            "Health_Impacts                       0\n",
            "Urban_or_Rural                       0\n",
            "dtype: int64\n"
          ]
        }
      ],
      "source": [
        "# Menghapus data missing dan duplikat\n",
        "data_clean = data.dropna().drop_duplicates()\n",
        "print(\"jumalah data duplikat : \", data_clean.duplicated().sum())\n",
        "print(\"Jumlah data hilang    :\")\n",
        "print(data_clean.isnull().sum())"
      ]
    },
    {
      "cell_type": "code",
      "execution_count": 37,
      "metadata": {},
      "outputs": [
        {
          "data": {
            "image/png": "[encoded data removed]",
            "text/plain": [
              "<Figure size 1000x600 with 1 Axes>"
            ]
          },
          "metadata": {},
          "output_type": "display_data"
        }
      ],
      "source": [
        "# Mengambil kolom numerik\n",
        "num_cols = data_clean.select_dtypes(include=['int64', 'float64']).columns  \n",
        "\n",
        "# Deteksi outliers menggunakan boxplot\n",
        "plt.figure(figsize=(10, 6))\n",
        "data_clean[num_cols].boxplot()\n",
        "plt.title(\"Boxplot Deteksi Outliers Numerik\")\n",
        "plt.show()"
      ]
    },
    {
      "cell_type": "code",
      "execution_count": 38,
      "metadata": {},
      "outputs": [
        {
          "name": "stdout",
          "output_type": "stream",
          "text": [
            "Jumlah data sebelum: 6488\n",
            "Jumlah data setelah: 6354\n"
          ]
        }
      ],
      "source": [
        "# Hitung Q1, Q3, dan IQR\n",
        "Q1 = data_clean['Avg_Daily_Screen_Time_hr'].quantile(0.25)\n",
        "Q3 = data_clean['Avg_Daily_Screen_Time_hr'].quantile(0.75)\n",
        "IQR = Q3 - Q1\n",
        "\n",
        "lower_bound = Q1 - 1.5 * IQR\n",
        "upper_bound = Q3 + 1.5 * IQR\n",
        "\n",
        "# Buang outlier\n",
        "data_no_outliers = data_clean[(data_clean['Avg_Daily_Screen_Time_hr'] >= lower_bound) & \n",
        "                       (data_clean['Avg_Daily_Screen_Time_hr'] <= upper_bound)].copy()\n",
        "\n",
        "print(\"Jumlah data sebelum:\", len(data_clean))\n",
        "print(\"Jumlah data setelah:\", len(data_no_outliers))"
      ]
    },
    {
      "cell_type": "code",
      "execution_count": 39,
      "metadata": {},
      "outputs": [],
      "source": [
        "# Encoding data kategorikal menggunakan LabelEncoder\n",
        "\n",
        "categorical_column =[\n",
        "    \"Gender\",\n",
        "    \"Urban_or_Rural\",\n",
        "    \"Primary_Device\",\n",
        "    \"Exceeded_Recommended_Limit\"\n",
        "]\n",
        "\n",
        "le = LabelEncoder()\n",
        "\n",
        "for col in categorical_column:\n",
        "    data_no_outliers[col] = le.fit_transform(data_no_outliers[col].astype(str))"
      ]
    },
    {
      "cell_type": "code",
      "execution_count": 40,
      "metadata": {},
      "outputs": [],
      "source": [
        "# Mengatasi column health impact yang mengandung multi label dengan memisahnya jadi perkolom\n",
        "multi_label_data = data_no_outliers['Health_Impacts'].str.get_dummies(sep=', ')\n",
        "data_no_outliers = data_no_outliers.drop([\"Health_Impacts\"], axis=1)\n",
        "\n",
        "data_ready = pd.concat([data_no_outliers, multi_label_data], axis=1)\n"
      ]
    },
    {
      "cell_type": "code",
      "execution_count": 41,
      "metadata": {},
      "outputs": [],
      "source": [
        "data_ready.to_csv(\"data_clean.csv\", index=False)"
      ]
    },
    {
      "cell_type": "code",
      "execution_count": null,
      "metadata": {},
      "outputs": [],
      "source": []
    }
  ],
  "metadata": {
    "accelerator": "GPU",
    "colab": {
      "gpuType": "T4",
      "provenance": []
    },
    "kernelspec": {
      "display_name": "smsml",
      "language": "python",
      "name": "python3"
    },
    "language_info": {
      "codemirror_mode": {
        "name": "ipython",
        "version": 3
      },
      "file_extension": ".py",
      "mimetype": "text/x-python",
      "name": "python",
      "nbconvert_exporter": "python",
      "pygments_lexer": "ipython3",
      "version": "3.12.7"
    }
  },
  "nbformat": 4,
  "nbformat_minor": 0
}
